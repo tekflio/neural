{
 "cells": [
  {
   "cell_type": "code",
   "execution_count": null,
   "metadata": {},
   "outputs": [],
   "source": [
    "import h5py\n",
    "import numpy as np\n",
    "from matplotlib import pyplot as plt\n",
    "import fastmri\n",
    "from CLPmodel import *\n",
    "\n",
    "from fastmri.data.subsample import RandomMaskFunc\n",
    "from fastmri.data import subsample\n",
    "from fastmri.data import transforms, mri_data\n",
    "\n",
    "import torch.cuda\n",
    "\n",
    "from fastmri.evaluate import *"
   ]
  },
  {
   "cell_type": "code",
   "execution_count": null,
   "metadata": {},
   "outputs": [],
   "source": [
    "mask_func = RandomMaskFunc(center_fractions=[0.04], accelerations=[8])\n",
    "\n",
    "def data_transform(kspace, mask, target, data_attributes, filename, slice_num):\n",
    "    # Transform the data into appropriate format\n",
    "   \n",
    "    ifft_kspace = fastmri.ifft2c(transforms.to_tensor(kspace))\n",
    "    crop_kspace = transforms.complex_center_crop(ifft_kspace, (320,320))    # torch.Size([320, 320, 2])\n",
    "    orig_kspace = fastmri.fft2c(crop_kspace)\n",
    "    masked_kspace, mask = transforms.apply_mask(orig_kspace, mask_func)     # apply the mask to k-space\n",
    "                                                                   # undersampled k-space data\n",
    "    mr_img = fastmri.ifft2c(masked_kspace)         # undersampled MR image\n",
    "   \n",
    "    return mr_img, masked_kspace, mask, target\n",
    "\n",
    "dataset = mri_data.SliceDataset(\n",
    "    root=pathlib.Path('./testset'),\n",
    "    transform=data_transform,\n",
    "    challenge='singlecoil'\n",
    ")"
   ]
  },
  {
   "cell_type": "code",
   "execution_count": null,
   "metadata": {},
   "outputs": [],
   "source": [
    "PATH = './saved_net.pth'\n",
    "\n",
    "net = Net().cuda()\n",
    "net.load_state_dict(torch.load(PATH))"
   ]
  },
  {
   "cell_type": "code",
   "execution_count": null,
   "metadata": {},
   "outputs": [],
   "source": [
    "%%time\n",
    "import torch.optim as optim\n",
    "\n",
    "net = Net().cuda()\n",
    "\n",
    "psnr = PSNR()\n",
    "ssim = SSIM()\n",
    "\n",
    "count_slice = 0.0\n",
    "    \n",
    "avg_psnr = 0.0\n",
    "avg_ssim = 0.0\n",
    "\n",
    "for mr_img, masked_kspace, mask, target in dataset:\n",
    "            \n",
    "    input1 = mr_img.unsqueeze(0).unsqueeze(0)\n",
    "    input2 = masked_kspace.unsqueeze(0).unsqueeze(0)\n",
    "\n",
    "    outputs = net(input1.cuda(), input2.cuda(), mask.cuda())\n",
    "\n",
    "    abs1 = fastmri.complex_abs(outputs[0][0])\n",
    "    abs2 = transforms.to_tensor(target).cuda()\n",
    "\n",
    "    avg_psnr += psnr(abs1, abs2).item()\n",
    "    avg_ssim += ssim(abs1, abs2).item()\n",
    "    \n",
    "    if(count_slice%30==0):\n",
    "        fig = plt.figure()\n",
    "        plt.imshow(abs1.cpu().detach().numpy(), cmap='gray')\n",
    "        plt.savefig('outputMRI/img'+str(count_slice+1)+'.jpg')\n",
    "        plt.close()\n",
    "        \n",
    "        fig = plt.figure()\n",
    "        plt.imshow(abs2.cpu().detach().numpy(), cmap='gray')\n",
    "        plt.savefig('outputMRI/imggg'+str(count_slice+1)+'.jpg')\n",
    "        plt.close()\n",
    "        \n",
    "    count_slice += 1\n",
    "\n",
    "    pass\n",
    "\n",
    "print(\"Average psnr: \", avg_psnr / count_slice)\n",
    "print(\"Average ssim: \", avg_ssim / count_slice)\n",
    "print(\"Count_slice: \", count_slice)\n",
    "print('Finished validation')"
   ]
  },
  {
   "cell_type": "code",
   "execution_count": null,
   "metadata": {},
   "outputs": [],
   "source": []
  }
 ],
 "metadata": {
  "kernelspec": {
   "display_name": "Python 3",
   "language": "python",
   "name": "python3"
  },
  "language_info": {
   "codemirror_mode": {
    "name": "ipython",
    "version": 3
   },
   "file_extension": ".py",
   "mimetype": "text/x-python",
   "name": "python",
   "nbconvert_exporter": "python",
   "pygments_lexer": "ipython3",
   "version": "3.8.3"
  }
 },
 "nbformat": 4,
 "nbformat_minor": 4
}
