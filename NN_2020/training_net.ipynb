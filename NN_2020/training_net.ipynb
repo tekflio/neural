{
 "cells": [
  {
   "cell_type": "code",
   "execution_count": null,
   "metadata": {},
   "outputs": [],
   "source": [
    "import h5py\n",
    "import numpy as np\n",
    "from matplotlib import pyplot as plt\n",
    "import fastmri\n",
    "from CLPmodel import *\n",
    "\n",
    "from fastmri.data.subsample import RandomMaskFunc\n",
    "from fastmri.data import subsample\n",
    "from fastmri.data import transforms, mri_data\n",
    "\n",
    "import torch.cuda\n",
    "\n",
    "from fastmri.evaluate import *"
   ]
  },
  {
   "cell_type": "code",
   "execution_count": null,
   "metadata": {},
   "outputs": [],
   "source": [
    "mask_func = RandomMaskFunc(center_fractions=[0.04], accelerations=[8])\n",
    "\n",
    "def data_transform(kspace, mask, target, data_attributes, filename, slice_num):\n",
    "    # Transform the data into appropriate format\n",
    "\n",
    "    ifft_kspace = fastmri.ifft2c(T.to_tensor(kspace))\n",
    "    crop_kspace = T.complex_center_crop(ifft_kspace, (320,320))   #torch.Size([640, 372, 2])\n",
    "    orig_kspace = fastmri.fft2c(crop_kspace)\n",
    "    masked_kspace, mask = T.apply_mask(orig_kspace, mask_func)  # apply the mask to k-space\n",
    "                                                                # undersampled k-space data\n",
    "    mr_img =  fastmri.ifft2c(masked_kspace)    # undersampled MR image\n",
    "    \n",
    "    return mr_img, masked_kspace, mask, target\n",
    "\n",
    "dataset = mri_data.SliceDataset(\n",
    "    root=pathlib.Path('./trainset'),\n",
    "    transform=data_transform,\n",
    "    challenge='singlecoil'\n",
    ")"
   ]
  },
  {
   "cell_type": "code",
   "execution_count": null,
   "metadata": {},
   "outputs": [],
   "source": [
    "%%time\n",
    "import torch.optim as optim\n",
    "\n",
    "net = Net().cuda()\n",
    "\n",
    "criterion = nn.L1Loss()\n",
    "optimizer = optim.Adam(net.parameters(), lr=0.0001, betas=(0.9, 0.999), eps=1e-08, weight_decay=0.95, amsgrad=False)\n",
    "\n",
    "psnr = PSNR()\n",
    "ssim = SSIM()\n",
    "\n",
    "avg_psnr_f = 0.0\n",
    "avg_ssim_f = 0.0\n",
    "\n",
    "for epoch in range(20):  # loop over the dataset multiple times\n",
    "    \n",
    "    running_loss = 0.0\n",
    "    count_slice = 0\n",
    "    avg_psnr = 0.0\n",
    "    avg_ssim = 0.0\n",
    "    \n",
    "    for mr_img, masked_kspace, mask, target in dataset:\n",
    "        \n",
    "        input1 = mr_img.unsqueeze(0).unsqueeze(0)\n",
    "        input2 = masked_kspace.unsqueeze(0).unsqueeze(0)\n",
    "\n",
    "        outputs = net(input1.cuda(), input2.cuda(), mask.cuda())\n",
    "\n",
    "        abs1 = fastmri.complex_abs(outputs[0][0])\n",
    "        abs2 = transforms.to_tensor(target).cuda()\n",
    "\n",
    "        loss = criterion(abs1, abs2)\n",
    "\n",
    "        optimizer.zero_grad()\n",
    "        loss.backward()\n",
    "        optimizer.step()\n",
    "        \n",
    "        # print statistics\n",
    "        running_loss += loss.item()\n",
    "\n",
    "        avg_psnr += psnr(abs1, abs2).item()\n",
    "        avg_ssim += ssim(abs1, abs2).item()\n",
    "        \n",
    "        count_slice += 1\n",
    "        pass\n",
    "\n",
    "    avg_psnr_f += avg_psnr/count_slice\n",
    "    avg_ssim_f += avg_ssim/count_slice\n",
    "    \n",
    "    print('Epoch n° (%d) loss: %.3f' % (epoch + 1, running_loss))\n",
    "    \n",
    "    print(\"Average psnr: \", avg_psnr /count_slice)\n",
    "    print(\"Average ssim: \", avg_ssim /count_slice)\n",
    "    \n",
    "print('Finished Training')\n",
    "print(\"Average psnr tot: \", avg_psnr_f /20)\n",
    "print(\"Average ssim tot: \", avg_ssim_f /20)"
   ]
  },
  {
   "cell_type": "code",
   "execution_count": null,
   "metadata": {},
   "outputs": [],
   "source": [
    "PATH = './saved_net.pth'\n",
    "torch.save(net.state_dict(), PATH)"
   ]
  },
  {
   "cell_type": "code",
   "execution_count": null,
   "metadata": {},
   "outputs": [],
   "source": [
    "print(count_slice)"
   ]
  },
  {
   "cell_type": "code",
   "execution_count": null,
   "metadata": {},
   "outputs": [],
   "source": []
  }
 ],
 "metadata": {
  "kernelspec": {
   "display_name": "Python 3",
   "language": "python",
   "name": "python3"
  },
  "language_info": {
   "codemirror_mode": {
    "name": "ipython",
    "version": 3
   },
   "file_extension": ".py",
   "mimetype": "text/x-python",
   "name": "python",
   "nbconvert_exporter": "python",
   "pygments_lexer": "ipython3",
   "version": "3.8.3"
  }
 },
 "nbformat": 4,
 "nbformat_minor": 4
}
